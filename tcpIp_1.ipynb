{
 "cells": [
  {
   "cell_type": "markdown",
   "metadata": {},
   "source": [
    "<link href=\"https://fonts.googleapis.com/css?family=Ubuntu\" rel=\"stylesheet\">\n",
    "\n",
    "<div style=\"padding-top: 3rem; padding-bottom: 3rem;\">\n",
    "    <h1 style=\"font-size: 5rem; text-align: center; font-family: 'Ubuntu', sans-serif;\">How Does the Internet Work?</h1>\n",
    "</div>"
   ]
  },
  {
   "cell_type": "markdown",
   "metadata": {},
   "source": [
    "<img style=\"position: relative; left: -32px\" src=\"https://3dnews.ru/assets/external/illustrations/2018/03/10/966772/sm.march8th_announcement_319834.750.jpg\">"
   ]
  },
  {
   "cell_type": "markdown",
   "metadata": {},
   "source": [
    "<p style=\"font-size: 2rem; font-family: 'Ubuntu', sans-serif; line-height: 2.2rem\">Эта тетрадка объясняет основные принципы инфраструктуры и технологий, которые позволяют работать интеренету. Мы не будем углубляться грубоко в детали, но рассматриваемого в этой тетрадке достаточно для того, чтобы иметь базовое понимание о том, как это всё работает. Для нерасмотренных вопросов вы сможете обратиться к литературе в конце тетрадки.</p>"
   ]
  },
  {
   "cell_type": "markdown",
   "metadata": {
    "collapsed": true
   },
   "source": [
    "# C чего начать?\n",
    "## Интернет адрес\n",
    "<p style=\"font-size: 2rem; font-family: 'Ubuntu', sans-serif; line-height: 2.2rem\">Каждый раз, когда вы вводите в свой любимый <s>Chrome</s> Firefox - любой домен (vk.com, telegram.org, google.com ...) - вы обращаетесь к какому-то компьютеру, но как это происходит?</p>"
   ]
  },
  {
   "cell_type": "markdown",
   "metadata": {},
   "source": [
    "<p style=\"font-size: 2rem; font-family: 'Ubuntu', sans-serif; line-height: 2.2rem\">Поскольку <b class=\"lol\" style=\"background: #080808; color: white; font-size: 2.1rem\">Internet</b> это глобальная сеть и в неё входят все компьютеры мира - значит каждый компьютер должен иметь какой-то уникальный адрес по которому мы можем к нему обращаться.</p>"
   ]
  },
  {
   "cell_type": "markdown",
   "metadata": {
    "collapsed": true
   },
   "source": [
    "<p style=\"font-size: 2rem; font-family: 'Ubuntu', sans-serif; line-height: 2.2rem\">И да - такой имеется. (даже стандарт для него запилили) Называется IPv4. Идея - проста как пробка! Скажем - что адрес это набор цифр от 0 до 255. Почему до 255?</p>"
   ]
  },
  {
   "cell_type": "code",
   "execution_count": 5,
   "metadata": {},
   "outputs": [
    {
     "name": "stdout",
     "output_type": "stream",
     "text": [
      "256\n"
     ]
    }
   ],
   "source": [
    "print(2**8) # 8 бит"
   ]
  },
  {
   "cell_type": "markdown",
   "metadata": {},
   "source": [
    "<p style=\"font-size: 2rem; font-family: 'Ubuntu', sans-serif; line-height: 2.2rem\">\n",
    "-- Так, а почему IPv4 тогда, а не IPv8????<br><br>\n",
    "-- Говорю же! Всё просто как пробка!<br>\n",
    "</p>"
   ]
  },
  {
   "cell_type": "markdown",
   "metadata": {},
   "source": [
    "<h2 style=\"text-align: center;\">000.000.000.000<br><p style=\"text-align: center; font-weight: 300; font-size 1rem;\">4 байта по 8 бит</p></h2>\n"
   ]
  },
  {
   "cell_type": "markdown",
   "metadata": {},
   "source": [
    "<p style=\"font-size: 2rem; font-family: 'Ubuntu', sans-serif; line-height: 2.2rem\">-- Тааааак, а разве это не ограничевает сеть на (число) устройств?</p>\n",
    "\n",
    "<p style=\"font-size: 2rem; font-family: 'Ubuntu', sans-serif; line-height: 2.2rem\">-- Да! Давайте найдём это число с помощью питона!!!</p>"
   ]
  },
  {
   "cell_type": "code",
   "execution_count": 6,
   "metadata": {},
   "outputs": [
    {
     "name": "stdout",
     "output_type": "stream",
     "text": [
      "4294967296\n"
     ]
    }
   ],
   "source": [
    "print(2 ** (4 * 8))"
   ]
  },
  {
   "cell_type": "markdown",
   "metadata": {},
   "source": [
    "<p style=\"font-size: 2rem; font-family: 'Ubuntu', sans-serif; line-height: 2.2rem\"> А теперь - задумайтесь. Разве можно в такое маленькое число уместить все интернет устройства в сети? Конечно нет! И у них уже закончились IP адреса! Поэтому все сейчас мягко переползают на стандарт IPv6, в котором немного больше возможных уникальных значений.<br><br> Но мы отвлеклись от темы... Вы ещё со мной?</p>"
   ]
  },
  {
   "cell_type": "markdown",
   "metadata": {},
   "source": [
    "<img src=\"https://web.stanford.edu/class/msande91si/www-spr04/readings/week1/InternetWhitepaper_files/ruswp_diag1.gif\">"
   ]
  },
  {
   "cell_type": "markdown",
   "metadata": {},
   "source": [
    "<p style=\"font-size: 2rem; font-family: 'Ubuntu', sans-serif; line-height: 2.2rem\">Если вы подключены к интернету через интернет-провайдер - то обычно вам выделяют временный IPv4 адресс (в продвинутых странах и IPv6 дать могут) пока вы находитесь в текущей сессии. Если вы подключены к <b class=\"lol\" style=\"background: #080808; color: white; font-size: 2.1rem\">Internet</b> через локальную сеть (в простонародии *локалку*) - то ваш компьютер имеет не только внешний IP адрес, но и внутренний (кому то знакомо 192.168.0.1?). Он так же уникален в локальной сети и у каждого устройства свой. Но при этом в интернет вы выходите через адрес, который вам выдал провайдер.</p>\n"
   ]
  },
  {
   "cell_type": "markdown",
   "metadata": {},
   "source": [
    "## Теперь я знаю как обращаться, но не знаю куда...\n",
    "(а может и наоборот?)"
   ]
  },
  {
   "cell_type": "markdown",
   "metadata": {},
   "source": [
    "<p style=\"font-size: 2rem; font-family: 'Ubuntu', sans-serif; line-height: 2.2rem\">Теперь ваш компьютер подключен к интернету и имеет уникальный адрес, что дальше то? как они между собой картинки кошек отправляют?</p>\n",
    "\n",
    "<p style=\"font-size: 2rem; font-family: 'Ubuntu', sans-serif; line-height: 2.2rem\">Спокойно. Сейчас разберёмся. Вот вам пример: давайте скажем что ваш компьютер имеет ```IP 1.2.3.4``` и вы хотите сказать привет своему другу с ```IP 5.6.7.8```.  Так, ну для начала нужно понять как по этому проводу (возможно даже по воздуху сначала до роутера) передать буквы. Если подумать, то шанс передачи байт, а не букв увеличит шансы передачи сообщения. (просто потому что если вы будете кричать буквы в провод ничего не произойдёт). Для того, чтобы \"запаковывать\" и \"распаковывать\" данные была придумана модель TCP/IP. Она позволяет не задумываться о том в каком виде (формате) мы передаём все данные. Эта модель разделена на уровни. Кстати, вот они:</p>"
   ]
  },
  {
   "cell_type": "markdown",
   "metadata": {},
   "source": [
    "<table style=\"font-size: 2rem; font-family: 'Ubuntu', sans-serif; line-height: 2.2rem;\">\n",
    "    <tbody>\n",
    "        <tr style=\"background:#d8ec9b;\">\n",
    "            <td>Прикладной уровень</td>\n",
    "            <td>Обеспечивает взаимодействие сети и пользователя</td>\n",
    "        </tr>\n",
    "        \n",
    "        <tr style=\"background:#e7ed9c;\">\n",
    "            <td>Транспортный уровень</td>\n",
    "            <td>TCP говорит в какую программу передать пакет в сависимости от порта</td>\n",
    "        </tr>\n",
    "        \n",
    "        <tr style=\"background:#eddc9c;\">\n",
    "            <td>Сетевой уровень</td>\n",
    "            <td>Говорит то, куда нужно передать пакеты (по IP адресу в нашем случае)</td>\n",
    "        </tr>\n",
    "        \n",
    "        <tr style=\"background: #e9988a;\">\n",
    "            <td>Физический уровень</td>\n",
    "            <td>Переводит данные в бинарные и обратно в зависимоти от типа передачи данных (медный кабель, оптоволокно, радиоэфир)</td>\n",
    "        </tr>\n",
    "    </tbody>\n",
    "</table>"
   ]
  },
  {
   "cell_type": "markdown",
   "metadata": {},
   "source": [
    "# Как это работает???"
   ]
  },
  {
   "cell_type": "markdown",
   "metadata": {},
   "source": [
    "<p style=\"font-size: 2rem; font-family: 'Ubuntu', sans-serif; line-height: 2.2rem\">И так - вы <s>рас</s>хотели передать привет товарищу на другом конце провода. Как это будет выглядеть в нашей модели?</p>"
   ]
  },
  {
   "cell_type": "code",
   "execution_count": null,
   "metadata": {
    "collapsed": true
   },
   "outputs": [],
   "source": []
  }
 ],
 "metadata": {
  "kernelspec": {
   "display_name": "Python 3",
   "language": "python",
   "name": "python3"
  },
  "language_info": {
   "codemirror_mode": {
    "name": "ipython",
    "version": 3
   },
   "file_extension": ".py",
   "mimetype": "text/x-python",
   "name": "python",
   "nbconvert_exporter": "python",
   "pygments_lexer": "ipython3",
   "version": "3.6.3"
  }
 },
 "nbformat": 4,
 "nbformat_minor": 2
}
