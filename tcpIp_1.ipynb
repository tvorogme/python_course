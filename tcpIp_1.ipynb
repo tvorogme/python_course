{
 "cells": [
  {
   "cell_type": "markdown",
   "metadata": {},
   "source": [
    "## <link href=\"https://fonts.googleapis.com/css?family=Ubuntu\" rel=\"stylesheet\">\n",
    "\n",
    "<div style=\"padding-top: 3rem; padding-bottom: 3rem;\">\n",
    "    <h1 style=\"font-size: 5rem; text-align: center; font-family: 'Ubuntu', sans-serif;\">How Does the Internet Work?</h1>\n",
    "</div>"
   ]
  },
  {
   "cell_type": "markdown",
   "metadata": {},
   "source": [
    "<img src=\"https://3dnews.ru/assets/external/illustrations/2018/03/10/966772/sm.march8th_announcement_319834.750.jpg\">"
   ]
  },
  {
   "cell_type": "markdown",
   "metadata": {},
   "source": [
    "<p style=\"font-size: 2rem; font-family: 'Ubuntu', sans-serif; line-height: 2.2rem\">Эта тетрадка объясняет основные принципы инфраструктуры и технологий, которые позволяют работать интеренету. Мы не будем углубляться грубоко в детали, но рассматриваемого в этой тетрадке достаточно для того, чтобы иметь базовое понимание о том, как это всё работает. Для нерасмотренных вопросов вы сможете обратиться к литературе в конце тетрадки.</p>"
   ]
  },
  {
   "cell_type": "markdown",
   "metadata": {
    "collapsed": true
   },
   "source": [
    "# C чего начать?\n",
    "## Интернет адрес\n",
    "<p style=\"font-size: 2rem; font-family: 'Ubuntu', sans-serif; line-height: 2.2rem\">Каждый раз, когда вы вводите в свой любимый <s>Chrome</s> Firefox - любой домен (vk.com, telegram.org, google.com ...) - вы обращаетесь к какому-то компьютеру, но как это происходит?</p>"
   ]
  },
  {
   "cell_type": "markdown",
   "metadata": {},
   "source": [
    "<p style=\"font-size: 2rem; font-family: 'Ubuntu', sans-serif; line-height: 2.2rem\">Поскольку <b class=\"lol\" style=\"background: #080808; color: white; font-size: 2.1rem\">Internet</b> это глобальная сеть и в неё входят все компьютеры мира - значит каждый компьютер должен иметь какой-то уникальный адрес по которому мы можем к нему обращаться.</p>"
   ]
  },
  {
   "cell_type": "markdown",
   "metadata": {
    "collapsed": true
   },
   "source": [
    "<p style=\"font-size: 2rem; font-family: 'Ubuntu', sans-serif; line-height: 2.2rem\">И да - такой имеется. (даже стандарт для него запилили) Называется IPv4. Идея - проста как пробка! Скажем - что адрес это набор цифр от 0 до 255. Почему до 255?</p>"
   ]
  },
  {
   "cell_type": "code",
   "execution_count": 5,
   "metadata": {},
   "outputs": [
    {
     "name": "stdout",
     "output_type": "stream",
     "text": [
      "256\n"
     ]
    }
   ],
   "source": [
    "print(2**8) # 8 бит"
   ]
  },
  {
   "cell_type": "markdown",
   "metadata": {},
   "source": [
    "<p style=\"font-size: 2rem; font-family: 'Ubuntu', sans-serif; line-height: 2.2rem\">\n",
    "-- Так, а почему IPv4 тогда, а не IPv8????<br><br>\n",
    "-- Говорю же! Всё просто как пробка!<br>\n",
    "</p>"
   ]
  },
  {
   "cell_type": "markdown",
   "metadata": {},
   "source": [
    "<h2 style=\"text-align: center;\">000.000.000.000<br><p style=\"text-align: center; font-weight: 300; font-size 1rem;\">4 байта по 8 бит</p></h2>\n"
   ]
  },
  {
   "cell_type": "markdown",
   "metadata": {},
   "source": [
    "<p style=\"font-size: 2rem; font-family: 'Ubuntu', sans-serif; line-height: 2.2rem\">-- Тааааак, а разве это не ограничевает сеть на (число) устройств?</p>\n",
    "\n",
    "<p style=\"font-size: 2rem; font-family: 'Ubuntu', sans-serif; line-height: 2.2rem\">-- Да! Давайте найдём это число с помощью питона!!!</p>"
   ]
  },
  {
   "cell_type": "code",
   "execution_count": 6,
   "metadata": {},
   "outputs": [
    {
     "name": "stdout",
     "output_type": "stream",
     "text": [
      "4294967296\n"
     ]
    }
   ],
   "source": [
    "print(2 ** (4 * 8))"
   ]
  },
  {
   "cell_type": "markdown",
   "metadata": {},
   "source": [
    "<p style=\"font-size: 2rem; font-family: 'Ubuntu', sans-serif; line-height: 2.2rem\"> А теперь - задумайтесь. Разве можно в такое маленькое число уместить все интернет устройства в сети? Конечно нет! И у них уже закончились IP адреса! Поэтому все сейчас мягко переползают на стандарт IPv6, в котором немного больше возможных уникальных значений.<br><br> Но мы отвлеклись от темы... Вы ещё со мной?</p>"
   ]
  },
  {
   "cell_type": "markdown",
   "metadata": {},
   "source": [
    "<img src=\"https://web.stanford.edu/class/msande91si/www-spr04/readings/week1/InternetWhitepaper_files/ruswp_diag1.gif\">"
   ]
  },
  {
   "cell_type": "markdown",
   "metadata": {},
   "source": [
    "<p style=\"font-size: 2rem; font-family: 'Ubuntu', sans-serif; line-height: 2.2rem\">Если вы подключены к интернету через интернет-провайдер - то обычно вам выделяют временный IPv4 адресс (в продвинутых странах и IPv6 дать могут) пока вы находитесь в текущей сессии. Если вы подключены к <b class=\"lol\" style=\"background: #080808; color: white; font-size: 2.1rem\">Internet</b> через локальную сеть (в простонародии *локалку*) - то ваш компьютер имеет не только внешний IP адрес, но и внутренний (кому то знакомо 192.168.0.1?). Он так же уникален в локальной сети и у каждого устройства свой. Но при этом в интернет вы выходите через адрес, который вам выдал провайдер.</p>\n"
   ]
  },
  {
   "cell_type": "markdown",
   "metadata": {},
   "source": [
    "## Теперь я знаю как обращаться, но не знаю куда...\n",
    "(а может и наоборот?)"
   ]
  },
  {
   "cell_type": "markdown",
   "metadata": {},
   "source": [
    "<p style=\"font-size: 2rem; font-family: 'Ubuntu', sans-serif; line-height: 2.2rem\">Теперь ваш компьютер подключен к интернету и имеет уникальный адрес, что дальше то? как они между собой картинки котиков отправляют?</p>\n",
    "\n",
    "<p style=\"font-size: 2rem; font-family: 'Ubuntu', sans-serif; line-height: 2.2rem\">Спокойно. Сейчас разберёмся. Вот вам пример: давайте скажем что ваш компьютер имеет ```IP 1.2.3.4``` и вы хотите сказать привет своему другу с ```IP 5.6.7.8```.  Так, ну для начала нужно понять как по этому проводу (возможно даже по воздуху сначала до роутера) передать буквы. Если подумать, то шанс передачи байт, а не букв увеличит шансы передачи сообщения. (просто потому что если вы будете кричать буквы в провод ничего не произойдёт). Для того, чтобы \"запаковывать\" и \"распаковывать\" данные была придумана модель TCP/IP. Она позволяет не задумываться о том в каком виде (формате) мы передаём все данные. Эта модель разделена на уровни. Кстати, вот они:</p>"
   ]
  },
  {
   "cell_type": "markdown",
   "metadata": {},
   "source": [
    "<table style=\"font-size: 2rem; font-family: 'Ubuntu', sans-serif; line-height: 2.2rem;\">\n",
    "    <tbody>\n",
    "        <tr style=\"background:#d8ec9b;\">\n",
    "            <td>Прикладной уровень</td>\n",
    "            <td>Обеспечивает взаимодействие сети и пользователя</td>\n",
    "        </tr>\n",
    "        \n",
    "        <tr style=\"background:#e7ed9c;\">\n",
    "            <td>Транспортный уровень</td>\n",
    "            <td>TCP говорит в какую программу передать пакет в сависимости от порта</td>\n",
    "        </tr>\n",
    "        \n",
    "        <tr style=\"background:#eddc9c;\">\n",
    "            <td>Сетевой уровень</td>\n",
    "            <td>Говорит то, куда нужно передать пакеты (по IP адресу в нашем случае)</td>\n",
    "        </tr>\n",
    "        \n",
    "        <tr style=\"background: #e9988a;\">\n",
    "            <td>Физический уровень</td>\n",
    "            <td>Переводит данные в бинарные и обратно в зависимоти от типа передачи данных (медный кабель, оптоволокно, радиоэфир)</td>\n",
    "        </tr>\n",
    "    </tbody>\n",
    "</table>"
   ]
  },
  {
   "cell_type": "markdown",
   "metadata": {},
   "source": [
    "<img src=\"https://web.stanford.edu/class/msande91si/www-spr04/readings/week1/InternetWhitepaper_files/ruswp_diag2.gif\">"
   ]
  },
  {
   "cell_type": "markdown",
   "metadata": {
    "collapsed": true
   },
   "source": [
    "<p style=\"font-size: 2rem; font-family: 'Ubuntu', sans-serif; line-height: 2.2rem\">При отправки сообщения - формирование контента начитается с прикладного уровня прямо на вашем компьютере. Если сообщение, которые вы передаёте слишком большое - то ваши данные будут разделены на чанки, при чём каждый следующий уровень может разделять сообщение ещё на более маленькие чанки с данными. В TCP/IP такие чанки называются пакетами. После того как пакеты пройдут через прикладной уровень - они попадают в транпортный уровень где каждому пакету присвоится номер порта. (принимать за черную магию - объясню потом). После TCP уровня пакеты переходят на сетевой (IP) уровень где каждому пакету присваивается IP адрес описанный выше. Наконец, наш пакет имеет IP и порт и теперь мы можем его отправить через интеренет. Физический уровень позаботится о том как превратить наши букафки в электронный сигнал и отправит их по проводу. Далее на том конце провода наш провайдер получит пакеты и отправит по тому адресу, что был получен в транспротном уровне. О провайдере можно думать как о полицейском, который говорит куда ехать машинам (нашим пакетам). И да, если полицейский не очень добросовестный - то он может отправить наши пакеты не туда (но об это не сейчас). Обычно после провайдера пакеты направляются к другому, более высокоуровневому роутеру. Более подробно о <s>роутерах</s> полицейских мы поговорим позже. В общем, как-то пакет добрался до нашего компьютера и поднимается из физического уровня в прикладной. В процессе чего компьютер направляет пакеты в нужное приложение.</p>"
   ]
  },
  {
   "cell_type": "markdown",
   "metadata": {},
   "source": [
    "<h1 style=\"text-align: center\">Как путешествует пакет?</h1>"
   ]
  },
  {
   "cell_type": "markdown",
   "metadata": {},
   "source": [
    "<img style=\"width: 60%\" src=\"http://xn-----vlcbbirqlhw.xn--p1ai/wp-content/uploads/2016/06/%D0%A8%D0%B5%D0%BF%D1%82%D1%83%D0%BD-%D0%B3%D0%B0%D0%BB%D0%BB%D1%8E%D1%86%D0%B8%D0%BD%D0%B8%D1%80%D1%83%D0%B5%D1%82-%D0%9C%D0%BE%D1%80%D1%82%D0%B8.jpg\">"
   ]
  },
  {
   "cell_type": "markdown",
   "metadata": {},
   "source": [
    "<br/><br/>\n",
    "<p style=\"font-size: 2rem; font-family: 'Ubuntu', sans-serif; line-height: 2.2rem; text-align: center\">Итак, как же реально путешествуют пакеты? Что реально делает интернет интернетом?</p>\n",
    "<br/><br/>"
   ]
  },
  {
   "cell_type": "markdown",
   "metadata": {},
   "source": [
    "```\n",
    "traceroute to tvorog.me (88.212.244.196), 30 hops max, 60 byte packets\n",
    " 1  DoubleB253143.lan (192.168.222.1)  2.531 ms  2.544 ms  2.639 ms\n",
    " 2  192.168.1.1 (192.168.1.1)  4.940 ms  5.064 ms  5.143 ms\n",
    " 3  194.135.71.69 (194.135.71.69)  6.728 ms  6.746 ms  7.329 ms\n",
    " 4  10.254.242.182 (10.254.242.182)  8.223 ms  8.202 ms  8.180 ms\n",
    " 5  94.29.127.190 (94.29.127.190)  7.726 ms  8.103 ms  8.065 ms\n",
    " 6  10.109.11.6 (10.109.11.6)  8.073 ms  10.070 ms  6.894 ms\n",
    " 7  mag9-cr01-be12.51.msk.stream-internet.net (212.188.1.5)  7.291 ms  7.284 ms  7.036 ms\n",
    " 8  m9-cr04-be8.77.msk.stream-internet.net (212.188.54.213)  9.769 ms  7.510 ms  10.330 ms\n",
    " 9  m9-cr03-ae13.77.msk.stream-internet.net (212.188.42.106)  7.741 ms  4.824 ms  4.987 ms\n",
    "10  serversru.stream-internet.net (212.188.31.81)  6.985 ms  15.499 ms  15.181 ms\n",
    "11  se-mo01-s2.servers.com (188.42.176.205)  7.860 ms  8.682 ms  9.848 ms\n",
    "12  se-mo01-l7-r2.servers.com (188.42.176.39)  5.286 ms  6.020 ms  7.045 ms\n",
    "13  88.212.244.196 (88.212.244.196)  4.544 ms  4.597 ms  4.991 ms```\n"
   ]
  },
  {
   "cell_type": "markdown",
   "metadata": {},
   "source": [
    "<img src=\"https://web.stanford.edu/class/msande91si/www-spr04/readings/week1/InternetWhitepaper_files/ruswp_diag3.gif\">"
   ]
  },
  {
   "cell_type": "markdown",
   "metadata": {},
   "source": [
    "<p style=\"font-size: 2rem; font-family: 'Ubuntu', sans-serif; line-height: 2.2rem\">Провайдер с помощью специального оборудования объеденяет все провода и передаёт на свой сервер. На сервере происходит проверка по оплате и переадресации в случае если пакеты отправляются на заблокированные сайты. Потом пакеты переходят в другие роутеры и ISP (провайдеры), пока пакет не попадёт к нужному компьютеру. Теперь вы знаете, что каждая точка в этой цепи знает куда вы отправляете своих котиков. ^_^</p>\n",
    "\n"
   ]
  },
  {
   "cell_type": "markdown",
   "metadata": {},
   "source": [
    "# Инфраструктура <b class=\"lol\" style=\"background: #080808; color: white;\">Интернета</b>"
   ]
  },
  {
   "cell_type": "markdown",
   "metadata": {},
   "source": [
    "The Internet backbone is made up of many large networks which interconnect with each other. These large networks are known as Network Service Providers or NSPs. Some of the large NSPs are UUNet, CerfNet, IBM, BBN Planet, SprintNet, PSINet, as well as others. These networks peer with each other to exchange packet traffic. Each NSP is required to connect to three Network Access Points or NAPs. At the NAPs, packet traffic may jump from one NSP's backbone to another NSP's backbone. NSPs also interconnect at Metropolitan Area Exchanges or MAEs. MAEs serve the same purpose as the NAPs but are privately owned. NAPs were the original Internet interconnect points. Both NAPs and MAEs are referred to as Internet Exchange Points or IXs. NSPs also sell bandwidth to smaller networks, such as ISPs and smaller bandwidth providers. Below is a picture showing this hierarchical infrastructure. "
   ]
  },
  {
   "cell_type": "markdown",
   "metadata": {},
   "source": [
    "<img style=\"width: 70%\" src=\"https://configcrazy.com/wp-content/uploads/2017/03/nsp_nap_internet-1-1024x683.jpg\">"
   ]
  },
  {
   "cell_type": "markdown",
   "metadata": {},
   "source": [
    "# Для России:\n",
    "(Мегафон, ВТК, Аквафон)"
   ]
  },
  {
   "cell_type": "markdown",
   "metadata": {},
   "source": [
    "<img src=\"https://wikileaks.org/spyfiles/russia/img3.png\">"
   ]
  }
 ],
 "metadata": {
  "kernelspec": {
   "display_name": "Python 3",
   "language": "python",
   "name": "python3"
  },
  "language_info": {
   "codemirror_mode": {
    "name": "ipython",
    "version": 3
   },
   "file_extension": ".py",
   "mimetype": "text/x-python",
   "name": "python",
   "nbconvert_exporter": "python",
   "pygments_lexer": "ipython3",
   "version": "3.6.4"
  }
 },
 "nbformat": 4,
 "nbformat_minor": 2
}
