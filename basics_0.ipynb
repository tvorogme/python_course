{
 "cells": [
  {
   "cell_type": "markdown",
   "metadata": {},
   "source": [
    "<h1 style=\"text-align: center; font-size: 3rem;\">Шпаргалка на все случаи программирования</h1>\n",
    "<h3 style=\"text-align: center; font-weight: 300; font-size: 2rem;\">Python</h3><br>\n",
    "<img style=\"width: 500px\" src=\"https://img-s1.onedio.com/id-5805247311af623b12d19624/rev-0/raw/s-fb849ac532b92b57cc4fff2d7586e8154e2c07d7.jpg\"><br>"
   ]
  },
  {
   "cell_type": "markdown",
   "metadata": {},
   "source": [
    "<p style=\"font-size: 2rem\">Начнём с <span style=\"color: red;\">простого</span>.<br>Типы данных в питоне.<br> Их не так много, а имея такую шпаргалку - вы с лёгкостью сможете ими пользоваться.</p>"
   ]
  },
  {
   "cell_type": "markdown",
   "metadata": {},
   "source": [
    "<h2 style=\"text-align: center; font-size: 3rem\">Числа</h2><br>\n",
    "\n",
    "<p style=\"font-size: 2rem;\">Числа в Python бывают разные, вот несколько примеров:</p><br>\n",
    "\n",
    "<ul>\n",
    "    <li style=\"font-size: 2rem;\">Целые числа (int): 122, -4, 99999999999, 0o177, 0x9ff, 0b101010</li><br>\n",
    "    <li style=\"font-size: 2rem;\">Вещественные числа (float): 1.0, 3.14, .5, 4E21, 4.0e21</li><br>\n",
    "    <li style=\"font-size: 2rem;\">Комплексные числа (complex): 3 + 4j, 3.0 + 4.0j,</li><br>\n",
    "    <li style=\"font-size: 2rem;\">Рациональные числа (дробь): fractions.Fraction(3, 4)</li>\n",
    "</ul>"
   ]
  },
  {
   "cell_type": "markdown",
   "metadata": {},
   "source": [
    "# А что мы с ними можем делать? \n",
    "На бумаге мы их уже видели, как программировать то??"
   ]
  },
  {
   "cell_type": "code",
   "execution_count": 12,
   "metadata": {},
   "outputs": [
    {
     "name": "stdout",
     "output_type": "stream",
     "text": [
      "Сложение (3 + 2 = 5)\n",
      "Вычетание (3 - 2 = 1)\n",
      "Умножение (3 * 2 = 6)\n",
      "Деление (3 / 2 = 1.5)\n",
      "Целочисленное деление (3 // 2 = 1)\n",
      "Возведение в степень (3^2 = 9)\n"
     ]
    }
   ],
   "source": [
    "print(\"Сложение (3 + 2 = {})\".format(3+2))\n",
    "print(\"Вычетание (3 - 2 = {})\".format(3-2))\n",
    "print(\"Умножение (3 * 2 = {})\".format(3*2))\n",
    "print(\"Деление (3 / 2 = {})\".format(3/2))\n",
    "print(\"Целочисленное деление (3 // 2 = {})\".format(3//2))\n",
    "print(\"Возведение в степень (3^2 = {})\".format(3**2))"
   ]
  },
  {
   "cell_type": "markdown",
   "metadata": {},
   "source": [
    "<hr>\n",
    "Много новых странных комманд? - не проблема, давайте разберёмся!\n",
    "\n",
    "`print(что-то)`\n",
    "\n",
    "^ команда которая напечатает вам в консоль то, что вы ей передадите. Довольно логично, правда?)\n",
    "\n",
    "`\"{}\".format(что-то)`\n",
    "\n",
    "^ тут мы вызываем метод (волшебное слово, объясню потом, не думай об этом морти) у строки. С помощью этого метода мы подставим вместо {} то, что придёт в format\n",
    "\n",
    "![](https://media.giphy.com/media/iXkuKj6Ho5mjm/giphy.gif)"
   ]
  },
  {
   "cell_type": "markdown",
   "metadata": {},
   "source": [
    "# Float"
   ]
  },
  {
   "cell_type": "code",
   "execution_count": 14,
   "metadata": {},
   "outputs": [
    {
     "name": "stdout",
     "output_type": "stream",
     "text": [
      "Сложение (0.3 + 0.2 = 0.5)\n",
      "Вычетание (0.3 - 0.2 = 0.09999999999999998)\n",
      "Умножение (0.3 * 0.2 = 0.06)\n",
      "Деление (0.3 / 0.2 = 1.4999999999999998)\n",
      "Целочисленное деление (0.3 // 0.2 = 1.0)\n",
      "Возведение в степень (0.3^0.2 = 0.7860030855966228)\n"
     ]
    }
   ],
   "source": [
    "print(\"Сложение (0.3 + 0.2 = {})\".format(0.3+0.2))\n",
    "print(\"Вычетание (0.3 - 0.2 = {})\".format(0.3-0.2))\n",
    "print(\"Умножение (0.3 * 0.2 = {})\".format(0.3*0.2))\n",
    "print(\"Деление (0.3 / 0.2 = {})\".format(0.3/0.2))\n",
    "print(\"Целочисленное деление (0.3 // 0.2 = {})\".format(0.3//0.2))\n",
    "print(\"Возведение в степень (0.3^0.2 = {})\".format(0.3**0.2))"
   ]
  },
  {
   "cell_type": "markdown",
   "metadata": {},
   "source": [
    "<p style=\"font-size: 2rem\">А в чем разница спросите вы?<br><br>Отвечу вам - в типе данных.</p>"
   ]
  },
  {
   "cell_type": "code",
   "execution_count": 18,
   "metadata": {
    "collapsed": true
   },
   "outputs": [],
   "source": [
    "a = 0.3 # float\n",
    "b = 3 # int"
   ]
  },
  {
   "cell_type": "code",
   "execution_count": 20,
   "metadata": {},
   "outputs": [
    {
     "name": "stdout",
     "output_type": "stream",
     "text": [
      "<class 'float'> <class 'int'> 3.3\n"
     ]
    }
   ],
   "source": [
    "# type(что-то) <- это волшебная приблуда, которая помогает узнать класс объекта\n",
    "print(type(a), type(b))"
   ]
  },
  {
   "cell_type": "code",
   "execution_count": 23,
   "metadata": {},
   "outputs": [
    {
     "name": "stdout",
     "output_type": "stream",
     "text": [
      "<class 'float'> 3.3\n"
     ]
    }
   ],
   "source": [
    "c = a + b # сложим числа\n",
    "print(type(c), c) # посмотрим на тип"
   ]
  },
  {
   "cell_type": "markdown",
   "metadata": {},
   "source": [
    "<h2 style=\"text-align: center; font-size: 3rem\">Строки</h2><br>"
   ]
  },
  {
   "cell_type": "markdown",
   "metadata": {},
   "source": [
    "Строки выделяются одинарными или двойными кавычками"
   ]
  },
  {
   "cell_type": "code",
   "execution_count": 24,
   "metadata": {
    "collapsed": true
   },
   "outputs": [],
   "source": [
    "my_string = \"This is a double-quoted string.\"\n",
    "my_string = 'This is a single-quoted string.'"
   ]
  },
  {
   "cell_type": "markdown",
   "metadata": {},
   "source": [
    "А что делать, когда в самой строке хочется поставить ковычку??"
   ]
  },
  {
   "cell_type": "code",
   "execution_count": 26,
   "metadata": {},
   "outputs": [
    {
     "ename": "SyntaxError",
     "evalue": "invalid syntax (<ipython-input-26-00e2ce45d569>, line 1)",
     "output_type": "error",
     "traceback": [
      "\u001b[0;36m  File \u001b[0;32m\"<ipython-input-26-00e2ce45d569>\"\u001b[0;36m, line \u001b[0;32m1\u001b[0m\n\u001b[0;31m    my_string = 'It's a cool!!!!!'\u001b[0m\n\u001b[0m                    ^\u001b[0m\n\u001b[0;31mSyntaxError\u001b[0m\u001b[0;31m:\u001b[0m invalid syntax\n"
     ]
    }
   ],
   "source": [
    "my_string = 'It's a cool!!!!!'"
   ]
  },
  {
   "cell_type": "markdown",
   "metadata": {},
   "source": [
    "Ну, тут 2 варианта"
   ]
  },
  {
   "cell_type": "code",
   "execution_count": 27,
   "metadata": {
    "collapsed": true
   },
   "outputs": [],
   "source": [
    "my_string1 = 'It\\'s a cool!!!!!'\n",
    "my_string2 = \"It's a cool!!!!!\""
   ]
  },
  {
   "cell_type": "code",
   "execution_count": 28,
   "metadata": {},
   "outputs": [
    {
     "name": "stdout",
     "output_type": "stream",
     "text": [
      "It's a cool!!!!!\n",
      "It's a cool!!!!!\n"
     ]
    }
   ],
   "source": [
    "print(my_string1)\n",
    "print(my_string2)"
   ]
  },
  {
   "cell_type": "markdown",
   "metadata": {},
   "source": [
    "<h1>Что по методам?</h1><br>\n",
    "(можно посмотреть все методы вот в <a href=\"https://pythonworld.ru/tipy-dannyx-v-python/stroki-funkcii-i-metody-strok.html\">этой</a> таблице, я разберу самые часто используемые)"
   ]
  },
  {
   "cell_type": "markdown",
   "metadata": {},
   "source": [
    "### Балуемся с высотой"
   ]
  },
  {
   "cell_type": "code",
   "execution_count": 32,
   "metadata": {},
   "outputs": [
    {
     "name": "stdout",
     "output_type": "stream",
     "text": [
      "IT'S A COOL!!!!!\n",
      "it's a cool!!!!!\n",
      "It'S A Cool!!!!!\n"
     ]
    }
   ],
   "source": [
    "print(my_string1.upper()) # ВСЕ БУКВЫ БОЛЬШИЕ\n",
    "print(my_string1.lower()) # буква I стала маленькой?!"
   ]
  },
  {
   "cell_type": "markdown",
   "metadata": {},
   "source": [
    "### Балуемся с пробелами"
   ]
  },
  {
   "cell_type": "code",
   "execution_count": 34,
   "metadata": {},
   "outputs": [
    {
     "name": "stdout",
     "output_type": "stream",
     "text": [
      "-пробе еелы -\n",
      "- пробе еелы-\n",
      "-пробе еелы-\n"
     ]
    }
   ],
   "source": [
    "name = ' пробе еелы '\n",
    "\n",
    "print('-' + name.lstrip() + '-')\n",
    "print('-' + name.rstrip() + '-')\n",
    "print('-' + name.strip() + '-')"
   ]
  },
  {
   "cell_type": "code",
   "execution_count": 35,
   "metadata": {},
   "outputs": [
    {
     "name": "stdout",
     "output_type": "stream",
     "text": [
      "-что-угодно по факту,,-\n",
      "-,,что-угодно по факту-\n",
      "-что-угодно по факту-\n"
     ]
    }
   ],
   "source": [
    "name = ',,что-угодно по факту,,'\n",
    "\n",
    "print('-' + name.lstrip(',') + '-')\n",
    "print('-' + name.rstrip(',') + '-')\n",
    "print('-' + name.strip(',') + '-')"
   ]
  },
  {
   "cell_type": "code",
   "execution_count": 40,
   "metadata": {},
   "outputs": [
    {
     "name": "stdout",
     "output_type": "stream",
     "text": [
      ",,что-угодно по факту,,\n",
      "что-угодно по факту,,\n",
      "-угодно по факту,,\n",
      "чт\n",
      ",,чт\n"
     ]
    }
   ],
   "source": [
    "print(name) # полная строка\n",
    "print(name[2:]) # всё от второго символа\n",
    "print(name[5:]) # всё от пятого символа\n",
    "print(name[2:4]) # от второго до четвертого\n",
    "print(name[:4]) # до четвертого"
   ]
  },
  {
   "cell_type": "code",
   "execution_count": 43,
   "metadata": {},
   "outputs": [
    {
     "name": "stdout",
     "output_type": "stream",
     "text": [
      "6\n",
      "угодно по факту,,\n"
     ]
    }
   ],
   "source": [
    "# Поиск подстроки в строке. Возвращает номер первого вхождения или -1\n",
    "print(name.find(\"уго\"))\n",
    "print(name[name.find(\"уго\"):])"
   ]
  },
  {
   "cell_type": "code",
   "execution_count": 45,
   "metadata": {},
   "outputs": [
    {
     "name": "stdout",
     "output_type": "stream",
     "text": [
      "6\n"
     ]
    }
   ],
   "source": [
    "print(name.index(\"уго\")) # а в чём фокус?? Они одинаковые???"
   ]
  },
  {
   "cell_type": "code",
   "execution_count": 46,
   "metadata": {},
   "outputs": [
    {
     "ename": "ValueError",
     "evalue": "substring not found",
     "output_type": "error",
     "traceback": [
      "\u001b[0;31m---------------------------------------------------------------------------\u001b[0m",
      "\u001b[0;31mValueError\u001b[0m                                Traceback (most recent call last)",
      "\u001b[0;32m<ipython-input-46-61fb87da1c23>\u001b[0m in \u001b[0;36m<module>\u001b[0;34m()\u001b[0m\n\u001b[0;32m----> 1\u001b[0;31m \u001b[0mprint\u001b[0m\u001b[0;34m(\u001b[0m\u001b[0;34m\"нет\"\u001b[0m\u001b[0;34m.\u001b[0m\u001b[0mindex\u001b[0m\u001b[0;34m(\u001b[0m\u001b[0;34m\"да\"\u001b[0m\u001b[0;34m)\u001b[0m\u001b[0;34m)\u001b[0m\u001b[0;34m\u001b[0m\u001b[0m\n\u001b[0m",
      "\u001b[0;31mValueError\u001b[0m: substring not found"
     ]
    }
   ],
   "source": [
    "print(\"нет\".index(\"да\"))"
   ]
  },
  {
   "cell_type": "code",
   "execution_count": 50,
   "metadata": {},
   "outputs": [
    {
     "name": "stdout",
     "output_type": "stream",
     "text": [
      "Творог мыла раму\n"
     ]
    }
   ],
   "source": [
    "print(\"Мама мыла раму\".replace(\"Мама\", \"Творог\")) # заменем слово Мама на Творог"
   ]
  },
  {
   "cell_type": "code",
   "execution_count": 51,
   "metadata": {},
   "outputs": [
    {
     "name": "stdout",
     "output_type": "stream",
     "text": [
      "['я', 'хочу', 'разделить', 'этот', 'текст', 'по', 'пробелам', 'и', 'представить', 'его', 'ввиде', 'массива!!!']\n"
     ]
    }
   ],
   "source": [
    "print(\"я хочу разделить этот текст по пробелам и представить его ввиде массива!!!\".split(\" \"))"
   ]
  },
  {
   "cell_type": "code",
   "execution_count": 55,
   "metadata": {},
   "outputs": [
    {
     "name": "stdout",
     "output_type": "stream",
     "text": [
      "['я хочу разделить этот текст по ', ' и представить его ввиде массива!!!']\n"
     ]
    }
   ],
   "source": [
    "print(\"я хочу разделить этот текст по пробелам и представить его ввиде массива!!!\".split(\"пробелам\"))"
   ]
  },
  {
   "cell_type": "markdown",
   "metadata": {},
   "source": [
    "<ul>\n",
    "<li>isdigit - состоит ли строка из цифр;</li>\n",
    "<li>isalpha - состоит ли строка из букв;</li>\n",
    "<li>isalnum - состоит ли строка из цифр или букв;</li>\n",
    "<li>islower - состоит ли строка из символов в нижнем регистре;</li>\n",
    "<li>isupper - состоит ли строка из символов в верхнем регистре;</li>\n",
    "<li>istitle - начинаются ли слова в строке с заглавной буквы.</li>\n",
    "</ul>"
   ]
  },
  {
   "cell_type": "code",
   "execution_count": 58,
   "metadata": {},
   "outputs": [
    {
     "data": {
      "text/plain": [
       "'то самое формирование строки'"
      ]
     },
     "execution_count": 58,
     "metadata": {},
     "output_type": "execute_result"
    }
   ],
   "source": [
    "\"{} {} {} {}\".format(\"ТО\", \"самое\", \"ФоРмИрОвАнИе\", \"СТРОКИ\").lower() # да-да методы можно вызывать подряд"
   ]
  },
  {
   "cell_type": "markdown",
   "metadata": {},
   "source": [
    "<h2 style=\"text-align: center; font-size: 3rem\">Всё остальное, а именно</h2><br>"
   ]
  },
  {
   "cell_type": "code",
   "execution_count": 93,
   "metadata": {
    "collapsed": true
   },
   "outputs": [],
   "source": [
    "# Списки!\n",
    "\n",
    "a = list([3,2,1])\n",
    "b = [1,3,4]\n",
    "\n",
    "# ^ это равносильная запись"
   ]
  },
  {
   "cell_type": "code",
   "execution_count": 94,
   "metadata": {},
   "outputs": [
    {
     "name": "stdout",
     "output_type": "stream",
     "text": [
      "[3, 2, 1, 1, 3, 4]\n",
      "[3, 2, 1] [4]\n",
      "2\n"
     ]
    }
   ],
   "source": [
    "print(a + b)\n",
    "print(a[:3], b[2:])\n",
    "print(a[1])"
   ]
  },
  {
   "cell_type": "markdown",
   "metadata": {},
   "source": [
    "# Методы"
   ]
  },
  {
   "cell_type": "code",
   "execution_count": 97,
   "metadata": {},
   "outputs": [
    {
     "name": "stdout",
     "output_type": "stream",
     "text": [
      "2\n"
     ]
    }
   ],
   "source": [
    "print(a.index(3))"
   ]
  },
  {
   "cell_type": "code",
   "execution_count": 98,
   "metadata": {},
   "outputs": [
    {
     "name": "stdout",
     "output_type": "stream",
     "text": [
      "[1, 2, 3]\n"
     ]
    }
   ],
   "source": [
    "a.sort()\n",
    "print(a)"
   ]
  },
  {
   "cell_type": "code",
   "execution_count": 99,
   "metadata": {},
   "outputs": [
    {
     "name": "stdout",
     "output_type": "stream",
     "text": [
      "[3, 2, 1]\n"
     ]
    }
   ],
   "source": [
    "a.reverse()\n",
    "print(a)"
   ]
  },
  {
   "cell_type": "code",
   "execution_count": 100,
   "metadata": {},
   "outputs": [
    {
     "name": "stdout",
     "output_type": "stream",
     "text": [
      "[1, 2, 3] [1, 2, 3]\n"
     ]
    }
   ],
   "source": [
    "print(list(reversed(a)), list(sorted(a)))"
   ]
  },
  {
   "cell_type": "markdown",
   "metadata": {},
   "source": [
    "<hr>"
   ]
  },
  {
   "cell_type": "code",
   "execution_count": 101,
   "metadata": {
    "collapsed": true
   },
   "outputs": [],
   "source": [
    "# Сеты\n",
    "a = set([1,1,1,1,1,1,3,4,5,6])\n",
    "b = set([1,1,1,1,1,1,3,9,10,11,12,13,4])"
   ]
  },
  {
   "cell_type": "code",
   "execution_count": 102,
   "metadata": {},
   "outputs": [
    {
     "name": "stdout",
     "output_type": "stream",
     "text": [
      "{1, 3, 4, 5, 6} {1, 3, 4, 9, 10, 11, 12, 13}\n"
     ]
    }
   ],
   "source": [
    "print(a, b)"
   ]
  },
  {
   "cell_type": "code",
   "execution_count": 103,
   "metadata": {},
   "outputs": [
    {
     "name": "stdout",
     "output_type": "stream",
     "text": [
      "{1, 3, 4}\n",
      "{5, 6, 9, 10, 11, 12, 13}\n",
      "{1, 3, 4, 5, 6, 9, 10, 11, 12, 13}\n"
     ]
    }
   ],
   "source": [
    "print(a & b) # пересечения\n",
    "print(a ^ b) # исключения\n",
    "print(a | b) # объеденения"
   ]
  },
  {
   "cell_type": "code",
   "execution_count": 104,
   "metadata": {},
   "outputs": [
    {
     "name": "stdout",
     "output_type": "stream",
     "text": [
      "{5, 6}\n",
      "{9, 10, 11, 12, 13}\n"
     ]
    }
   ],
   "source": [
    "# за 5 лет программирования ни разу не использовал, но вам покажу\n",
    "print(a - b) # a - b\n",
    "print(b - a) # b - a"
   ]
  },
  {
   "cell_type": "markdown",
   "metadata": {},
   "source": [
    "<hr>"
   ]
  },
  {
   "cell_type": "markdown",
   "metadata": {},
   "source": [
    "<h1> Ну надоел уже, го прогать!</h1><br>\n",
    "<img style=\"width: 30%; float: left\" src=\"http://bipbap.ru/wp-content/uploads/2017/11/1994615-640x478.jpg\"><br>"
   ]
  },
  {
   "cell_type": "markdown",
   "metadata": {},
   "source": [
    "<h1 style=\"color: red; text-align: center; font-size: 5rem\">НЕТ</h1><br>\n",
    "<p style=\"text-align: center;\">Потерпи ещё чуток, сейчас пару занудных клеток про циклы и ифчики, потом функции - и всё, ты сядешь за свой проект!</p>"
   ]
  },
  {
   "cell_type": "markdown",
   "metadata": {},
   "source": [
    "# Ifчики. Тут всё просто"
   ]
  },
  {
   "cell_type": "code",
   "execution_count": 105,
   "metadata": {
    "collapsed": true
   },
   "outputs": [],
   "source": [
    "a = 1\n",
    "b = 3"
   ]
  },
  {
   "cell_type": "code",
   "execution_count": 106,
   "metadata": {},
   "outputs": [
    {
     "name": "stdout",
     "output_type": "stream",
     "text": [
      "False\n",
      "True\n"
     ]
    }
   ],
   "source": [
    "print(a > b)\n",
    "print(a < b)"
   ]
  },
  {
   "cell_type": "code",
   "execution_count": 108,
   "metadata": {},
   "outputs": [
    {
     "name": "stdout",
     "output_type": "stream",
     "text": [
      "Lol, elif, WAT?\n"
     ]
    }
   ],
   "source": [
    "if a > b: # False\n",
    "    print(\"Check it out!\")\n",
    "elif a < b: # True\n",
    "    print(\"Lol, elif, WAT?\")\n",
    "else: # Никогда не будет выполняться =)\n",
    "    print(\"Trueeee\")"
   ]
  },
  {
   "cell_type": "code",
   "execution_count": 109,
   "metadata": {},
   "outputs": [
    {
     "name": "stdout",
     "output_type": "stream",
     "text": [
      "!?\n"
     ]
    }
   ],
   "source": [
    "if a > b:\n",
    "    pass # не делай ничего\n",
    "else:\n",
    "    print(\"!?\")"
   ]
  },
  {
   "cell_type": "markdown",
   "metadata": {},
   "source": [
    "# LOL"
   ]
  },
  {
   "cell_type": "code",
   "execution_count": 111,
   "metadata": {},
   "outputs": [
    {
     "name": "stdout",
     "output_type": "stream",
     "text": [
      "False\n"
     ]
    }
   ],
   "source": [
    "if True and False or False:\n",
    "    print(True is True)\n",
    "elif True or False is False:\n",
    "    print(False is False, True is True, None is False)"
   ]
  },
  {
   "cell_type": "markdown",
   "metadata": {},
   "source": [
    "<h2 style=\"text-align: center; font-size: 3rem\">Циклики</h2><br>"
   ]
  },
  {
   "cell_type": "code",
   "execution_count": 4,
   "metadata": {},
   "outputs": [
    {
     "name": "stdout",
     "output_type": "stream",
     "text": [
      "Lives -= 1\n",
      "Lives -= 1\n",
      "Lives -= 1\n",
      "Game Over!\n"
     ]
    }
   ],
   "source": [
    "# Некоторое начальное условие\n",
    "game_active = True\n",
    "\n",
    "lives = 3\n",
    "\n",
    "# Сам цикл while \n",
    "while game_active:\n",
    "    # Запускаем игру.\n",
    "    # В какой-то момент времени необходимо изменить значение game_active на False.\n",
    "    # Когда это случится, цикл закончит свою работу\n",
    "    \n",
    "    print(\"Lives -= 1\")\n",
    "    lives -= 1\n",
    "    \n",
    "    if lives == 0:\n",
    "        print(\"Game Over!\")\n",
    "        break\n",
    "    \n",
    "# Действия по окончанию цикла"
   ]
  },
  {
   "cell_type": "markdown",
   "metadata": {},
   "source": [
    "<p style=\"font-size: 2rem;\">Инструкции для работы с циклами:</p><br>\n",
    "\n",
    "<ul>\n",
    "    <li style=\"font-size: 2rem;\">break - Производит переход за пределы цикла</li><br>\n",
    "    <li style=\"font-size: 2rem;\">continue - Производит переход в начало цикла</li><br>\n",
    "    <li style=\"font-size: 2rem;\">pass - Ничего не делает, используется как заполнитель</li><br>\n",
    "</ul>"
   ]
  },
  {
   "cell_type": "code",
   "execution_count": 5,
   "metadata": {},
   "outputs": [
    {
     "name": "stdout",
     "output_type": "stream",
     "text": [
      "8\n",
      "6\n",
      "4\n",
      "2\n",
      "0\n"
     ]
    }
   ],
   "source": [
    "x = 10\n",
    "while x:\n",
    "    x = x - 1 # Или, x -= 1\n",
    "    if x % 2 != 0: continue # Нечетное? – пропустить вывод\n",
    "    print(x)"
   ]
  },
  {
   "cell_type": "code",
   "execution_count": 6,
   "metadata": {},
   "outputs": [
    {
     "name": "stdout",
     "output_type": "stream",
     "text": [
      "Enter name:stop\n"
     ]
    }
   ],
   "source": [
    "while 1:\n",
    "    name = input('Enter name:')\n",
    "    if name == 'stop': break\n",
    "    age = input('Enter age: ')\n",
    "    print('Hello', name, '=>', int(age) ** 2)"
   ]
  },
  {
   "cell_type": "markdown",
   "metadata": {},
   "source": [
    "<h2 style=\"text-align: center; font-size: 3rem\">Форчики</h2><br> (break, continue, pass работают так же)"
   ]
  },
  {
   "cell_type": "code",
   "execution_count": 8,
   "metadata": {},
   "outputs": [
    {
     "name": "stdout",
     "output_type": "stream",
     "text": [
      "<class 'str'> spam\n",
      "<class 'str'> eggs\n",
      "<class 'str'> ham\n"
     ]
    }
   ],
   "source": [
    "for x in ['spam', 'eggs', 'ham']:\n",
    "    print(type(x), x)"
   ]
  },
  {
   "cell_type": "markdown",
   "metadata": {
    "collapsed": true
   },
   "source": [
    "<h2 style=\"text-align: center; font-size: 3rem\">Функции</h2><br>"
   ]
  },
  {
   "cell_type": "code",
   "execution_count": 1,
   "metadata": {
    "collapsed": true
   },
   "outputs": [],
   "source": [
    "def f():\n",
    "    print(\"LOL\")"
   ]
  },
  {
   "cell_type": "code",
   "execution_count": 2,
   "metadata": {},
   "outputs": [
    {
     "name": "stdout",
     "output_type": "stream",
     "text": [
      "LOL\n"
     ]
    }
   ],
   "source": [
    "f()"
   ]
  },
  {
   "cell_type": "markdown",
   "metadata": {},
   "source": [
    "## Аргументы"
   ]
  },
  {
   "cell_type": "code",
   "execution_count": 3,
   "metadata": {
    "collapsed": true
   },
   "outputs": [],
   "source": [
    "def g(x):\n",
    "    print(x)"
   ]
  },
  {
   "cell_type": "code",
   "execution_count": 4,
   "metadata": {},
   "outputs": [
    {
     "name": "stdout",
     "output_type": "stream",
     "text": [
      "LOL\n"
     ]
    }
   ],
   "source": [
    "g(\"LOL\")"
   ]
  },
  {
   "cell_type": "code",
   "execution_count": 5,
   "metadata": {
    "collapsed": true
   },
   "outputs": [],
   "source": [
    "def h(a,b,c,d):\n",
    "    print(a + b + c + d)"
   ]
  },
  {
   "cell_type": "code",
   "execution_count": 6,
   "metadata": {},
   "outputs": [
    {
     "name": "stdout",
     "output_type": "stream",
     "text": [
      "10\n"
     ]
    }
   ],
   "source": [
    "h(1,2,3,4)"
   ]
  },
  {
   "cell_type": "markdown",
   "metadata": {},
   "source": [
    "## Локальные переменные"
   ]
  },
  {
   "cell_type": "code",
   "execution_count": 9,
   "metadata": {
    "collapsed": true
   },
   "outputs": [],
   "source": [
    "j = 10\n",
    "\n",
    "def test():\n",
    "    print(j) # работает только чтение, если вы попытаетесь изменить её - у вас будет ошибка\n",
    "    #j += 1\n",
    "    #print(j)"
   ]
  },
  {
   "cell_type": "code",
   "execution_count": 10,
   "metadata": {},
   "outputs": [
    {
     "name": "stdout",
     "output_type": "stream",
     "text": [
      "10\n"
     ]
    }
   ],
   "source": [
    "test()"
   ]
  },
  {
   "cell_type": "code",
   "execution_count": 14,
   "metadata": {
    "collapsed": true
   },
   "outputs": [],
   "source": [
    "j = 10\n",
    "\n",
    "def test():\n",
    "    j = \"In FunC VaRiAbLe\"\n",
    "    print(j)\n",
    "    # возвращает ничего"
   ]
  },
  {
   "cell_type": "code",
   "execution_count": 15,
   "metadata": {},
   "outputs": [
    {
     "name": "stdout",
     "output_type": "stream",
     "text": [
      "In FunC VaRiAbLe\n",
      "None 10\n"
     ]
    }
   ],
   "source": [
    "print(test(), j)"
   ]
  },
  {
   "cell_type": "markdown",
   "metadata": {},
   "source": [
    "<h2 style=\"text-align: center; font-size: 3rem\">Импорты</h2><br>"
   ]
  },
  {
   "cell_type": "markdown",
   "metadata": {},
   "source": [
    "<img style=\"display: block; margin: 0 auto\" src=\"http://pkgid.ru/upload/u1/003/scrs27_3.jpg\">"
   ]
  },
  {
   "cell_type": "code",
   "execution_count": 16,
   "metadata": {
    "collapsed": true
   },
   "outputs": [],
   "source": [
    "from test import lol, pi"
   ]
  },
  {
   "cell_type": "code",
   "execution_count": 17,
   "metadata": {},
   "outputs": [
    {
     "name": "stdout",
     "output_type": "stream",
     "text": [
      "Hey, я импортировался из файла...\n"
     ]
    }
   ],
   "source": [
    "print(lol())"
   ]
  },
  {
   "cell_type": "code",
   "execution_count": 18,
   "metadata": {},
   "outputs": [
    {
     "name": "stdout",
     "output_type": "stream",
     "text": [
      "3.14\n"
     ]
    }
   ],
   "source": [
    "print(pi)"
   ]
  },
  {
   "cell_type": "markdown",
   "metadata": {},
   "source": [
    "# Хочу шпаргалку лучше!"
   ]
  },
  {
   "cell_type": "markdown",
   "metadata": {},
   "source": [
    "<p style=\"font-size: 2rem\">Вот [она](https://pythonworld.ru/samouchitel-python)</p>"
   ]
  }
 ],
 "metadata": {
  "kernelspec": {
   "display_name": "Python 3",
   "language": "python",
   "name": "python3"
  },
  "language_info": {
   "codemirror_mode": {
    "name": "ipython",
    "version": 3
   },
   "file_extension": ".py",
   "mimetype": "text/x-python",
   "name": "python",
   "nbconvert_exporter": "python",
   "pygments_lexer": "ipython3",
   "version": "3.6.3"
  }
 },
 "nbformat": 4,
 "nbformat_minor": 2
}
